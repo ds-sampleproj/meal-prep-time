{
 "cells": [
  {
   "cell_type": "code",
   "execution_count": 1,
   "id": "040dbfb4",
   "metadata": {},
   "outputs": [],
   "source": [
    "# Data Analysis Exercise: Meal-Prep-Time\n",
    "\n",
    "# This notebook serves as an initial analysis and exploration of the data, plus an intial\n",
    "# fitting and evaluation of a predictive model for food preparation time through use of \n",
    "# the XGBRegressor algorithm. "
   ]
  },
  {
   "cell_type": "code",
   "execution_count": 2,
   "id": "0c9a81ad",
   "metadata": {},
   "outputs": [],
   "source": [
    "# importing libraries\n",
    "import numpy as np\n",
    "import pandas as pd\n",
    "import matplotlib.pyplot as plt\n",
    "\n",
    "from sklearn.metrics import r2_score, mean_absolute_error\n",
    "from sklearn.model_selection import train_test_split\n",
    "from sklearn.preprocessing import LabelEncoder\n",
    "from xgboost import XGBRegressor\n",
    "\n",
    "import warnings\n",
    "warnings.filterwarnings(\"ignore\")\n",
    "\n",
    "# importing csv files\n",
    "orders = pd.read_csv('app/source/orders.csv')\n",
    "restaurants = pd.read_csv('app/source/restaurants.csv')"
   ]
  },
  {
   "cell_type": "code",
   "execution_count": 3,
   "id": "1f385ba5",
   "metadata": {},
   "outputs": [
    {
     "data": {
      "text/plain": [
       "Index(['order_acknowledged_at', 'order_ready_at', 'order_value_gbp',\n",
       "       'restaurant_id', 'number_of_items', 'prep_time_seconds'],\n",
       "      dtype='object')"
      ]
     },
     "execution_count": 3,
     "metadata": {},
     "output_type": "execute_result"
    }
   ],
   "source": [
    "# inspecting 'orders' (based on orders.csv)\n",
    "orders.shape # 32394 rows, 6 columns\n",
    "orders.columns # column names: order_acknowledged_at, order_ready_at, order_value_gbp, restaurant_id, number_of_items, prep_time_seconds"
   ]
  },
  {
   "cell_type": "code",
   "execution_count": 4,
   "id": "33774b7c",
   "metadata": {
    "scrolled": true
   },
   "outputs": [
    {
     "data": {
      "text/plain": [
       "0    2015-06-01 12:28:28.952789+01:00\n",
       "1    2015-06-06 17:06:24.434807+01:00\n",
       "2    2015-06-08 14:56:15.503204+01:00\n",
       "3    2015-06-12 15:12:20.497925+01:00\n",
       "4    2015-06-01 13:07:10.794050+01:00\n",
       "Name: order_acknowledged_at, dtype: object"
      ]
     },
     "execution_count": 4,
     "metadata": {},
     "output_type": "execute_result"
    }
   ],
   "source": [
    "orders['order_acknowledged_at'].head() # previewing 'order_acknowledged_at' column"
   ]
  },
  {
   "cell_type": "code",
   "execution_count": 5,
   "id": "674a823a",
   "metadata": {},
   "outputs": [
    {
     "data": {
      "text/plain": [
       "0    2015-06-01 14:12:09.474896+01:00\n",
       "1    2015-06-06 17:16:27.520253+01:00\n",
       "2    2015-06-08 15:03:39.397496+01:00\n",
       "3    2015-06-12 15:23:30.064683+01:00\n",
       "4    2015-06-01 14:02:25.104517+01:00\n",
       "Name: order_ready_at, dtype: object"
      ]
     },
     "execution_count": 5,
     "metadata": {},
     "output_type": "execute_result"
    }
   ],
   "source": [
    "orders['order_ready_at'].head() # previewing 'order_ready_at' column"
   ]
  },
  {
   "cell_type": "code",
   "execution_count": 6,
   "id": "f8eecac9",
   "metadata": {},
   "outputs": [],
   "source": [
    "# converting 'order_acknowledged_at', 'order_ready_at' columns to datetime format\n",
    "orders['order_acknowledged_at'] = pd.to_datetime(orders['order_acknowledged_at'])\n",
    "orders['order_ready_at'] = pd.to_datetime(orders['order_ready_at'])"
   ]
  },
  {
   "cell_type": "code",
   "execution_count": 7,
   "id": "d3034d74",
   "metadata": {},
   "outputs": [],
   "source": [
    "# creating a new column 'diff' which represents the difference between 'order_ready_at' and 'order_acknowledged_at'\n",
    "orders['diff'] = orders['order_ready_at'] - orders['order_acknowledged_at']\n",
    "orders['diff'] = orders['diff'].apply(lambda x: int(x.total_seconds()))"
   ]
  },
  {
   "cell_type": "code",
   "execution_count": 8,
   "id": "8589e8fe",
   "metadata": {},
   "outputs": [
    {
     "data": {
      "text/plain": [
       "0        True\n",
       "1        True\n",
       "2        True\n",
       "3        True\n",
       "4        True\n",
       "         ... \n",
       "32389    True\n",
       "32390    True\n",
       "32391    True\n",
       "32392    True\n",
       "32393    True\n",
       "Length: 32394, dtype: bool"
      ]
     },
     "execution_count": 8,
     "metadata": {},
     "output_type": "execute_result"
    }
   ],
   "source": [
    "orders['diff'] == orders['prep_time_seconds'] # verifying equivalence between the columns"
   ]
  },
  {
   "cell_type": "code",
   "execution_count": 9,
   "id": "8f55f3f8",
   "metadata": {},
   "outputs": [],
   "source": [
    "# 'prep_time_seconds' appears to be equivalent to 'diff', our calculated column"
   ]
  },
  {
   "cell_type": "code",
   "execution_count": 10,
   "id": "8cecba2c",
   "metadata": {},
   "outputs": [],
   "source": [
    "del orders['diff'] # removing 'diff' column (no longer needed)"
   ]
  },
  {
   "cell_type": "code",
   "execution_count": 11,
   "id": "20b5adb3",
   "metadata": {},
   "outputs": [
    {
     "data": {
      "text/plain": [
       "408     679\n",
       "365     339\n",
       "1939    312\n",
       "20      281\n",
       "1390    250\n",
       "       ... \n",
       "2459      1\n",
       "2830      1\n",
       "2968      1\n",
       "2697      1\n",
       "2274      1\n",
       "Name: restaurant_id, Length: 1697, dtype: int64"
      ]
     },
     "execution_count": 11,
     "metadata": {},
     "output_type": "execute_result"
    }
   ],
   "source": [
    "# exploring 'restaurant_id' column\n",
    "orders['restaurant_id'].value_counts() # it appears that some restaurants have very few orders\n",
    "                                       # (as low as 1 order per restaurant)"
   ]
  },
  {
   "cell_type": "code",
   "execution_count": 12,
   "id": "f9be266d",
   "metadata": {},
   "outputs": [
    {
     "data": {
      "text/plain": [
       "Text(0, 0.5, 'frequency')"
      ]
     },
     "execution_count": 12,
     "metadata": {},
     "output_type": "execute_result"
    },
    {
     "data": {
      "image/png": "[encoded data removed]",
      "text/plain": [
       "<Figure size 640x480 with 1 Axes>"
      ]
     },
     "metadata": {},
     "output_type": "display_data"
    }
   ],
   "source": [
    "# visualization of 'order_value_gbp' column\n",
    "plt.hist(orders['order_value_gbp'], bins=50)\n",
    "plt.xlabel('order value (GBP)') \n",
    "plt.ylabel('frequency')"
   ]
  },
  {
   "cell_type": "code",
   "execution_count": 13,
   "id": "4a72c787",
   "metadata": {},
   "outputs": [
    {
     "data": {
      "text/plain": [
       "Text(0, 0.5, 'frequency')"
      ]
     },
     "execution_count": 13,
     "metadata": {},
     "output_type": "execute_result"
    },
    {
     "data": {
      "image/png": "[encoded data removed]",
      "text/plain": [
       "<Figure size 640x480 with 1 Axes>"
      ]
     },
     "metadata": {},
     "output_type": "display_data"
    }
   ],
   "source": [
    "# based on the figure, the majority of orders appear to be under 150 GBP or so.\n",
    "# let's visualize another histogram using orders less than or equal to 150 GBP.\n",
    "\n",
    "tempDf = orders[orders['order_value_gbp'] <= 150]\n",
    "plt.hist(tempDf['order_value_gbp'], bins=50)\n",
    "plt.xlabel('order value (GBP)') \n",
    "plt.ylabel('frequency')"
   ]
  },
  {
   "cell_type": "code",
   "execution_count": 14,
   "id": "a1d1e05b",
   "metadata": {},
   "outputs": [
    {
     "data": {
      "text/plain": [
       "21.4"
      ]
     },
     "execution_count": 14,
     "metadata": {},
     "output_type": "execute_result"
    }
   ],
   "source": [
    "np.round(np.median(orders['order_value_gbp']),2) # the median order value is 21.4 GBP"
   ]
  },
  {
   "cell_type": "code",
   "execution_count": 15,
   "id": "9c5ccaa5",
   "metadata": {},
   "outputs": [
    {
     "data": {
      "text/plain": [
       "Index(['restaurant_id', 'country', 'city', 'type_of_food'], dtype='object')"
      ]
     },
     "execution_count": 15,
     "metadata": {},
     "output_type": "execute_result"
    }
   ],
   "source": [
    "# inspecting 'restaurants' (based on restaurants.csv)\n",
    "restaurants.shape # 1697 rows, 4 columns\n",
    "restaurants.columns # column names: restaurant_id, country, city, type_of_food"
   ]
  },
  {
   "cell_type": "code",
   "execution_count": 16,
   "id": "5ee37f43",
   "metadata": {},
   "outputs": [
    {
     "data": {
      "text/plain": [
       "Text(0, 0.5, 'frequency')"
      ]
     },
     "execution_count": 16,
     "metadata": {},
     "output_type": "execute_result"
    },
    {
     "data": {
      "image/png": "[encoded data removed]",
      "text/plain": [
       "<Figure size 640x480 with 1 Axes>"
      ]
     },
     "metadata": {},
     "output_type": "display_data"
    }
   ],
   "source": [
    "# visualization of 'country' column\n",
    "plt.hist(restaurants['country'])\n",
    "plt.xlabel('country')\n",
    "plt.ylabel('frequency') # most entries appear to be from the UK, followed by France, Germany, and Ireland"
   ]
  },
  {
   "cell_type": "code",
   "execution_count": 17,
   "id": "7524ed77",
   "metadata": {},
   "outputs": [
    {
     "data": {
      "text/plain": [
       "London         998\n",
       "Paris          161\n",
       "Berlin          77\n",
       "Manchester      72\n",
       "Dublin          52\n",
       "Birmingham      49\n",
       "Brighton        40\n",
       "Edinburgh       37\n",
       "Glasgow         33\n",
       "Oxford          23\n",
       "Leeds           23\n",
       "Nottingham      22\n",
       "Liverpool       20\n",
       "Cambridge       17\n",
       "München         16\n",
       "Bristol         15\n",
       "Reading         11\n",
       "Guildford        9\n",
       "Cheltenham       8\n",
       "Leicester        8\n",
       "Cardiff          4\n",
       "Southampton      2\n",
       "Name: city, dtype: int64"
      ]
     },
     "execution_count": 17,
     "metadata": {},
     "output_type": "execute_result"
    }
   ],
   "source": [
    "# exploring 'city' column\n",
    "restaurants['city'].value_counts() # some cities have relatively low counts"
   ]
  },
  {
   "cell_type": "code",
   "execution_count": 18,
   "id": "7d1fc274",
   "metadata": {},
   "outputs": [
    {
     "data": {
      "text/plain": [
       "italian         294\n",
       "indian          134\n",
       "burgers         119\n",
       "american        104\n",
       "thai             85\n",
       "               ... \n",
       "portuguese        1\n",
       "soup              1\n",
       "austrian          1\n",
       "delicatessen      1\n",
       "ice cream         1\n",
       "Name: type_of_food, Length: 83, dtype: int64"
      ]
     },
     "execution_count": 18,
     "metadata": {},
     "output_type": "execute_result"
    }
   ],
   "source": [
    "# exploring 'type_of_food' column\n",
    "restaurants['type_of_food'].value_counts() # some food types have relatively low counts"
   ]
  },
  {
   "cell_type": "code",
   "execution_count": 19,
   "id": "46026472",
   "metadata": {},
   "outputs": [],
   "source": [
    "# merging 'orders' and 'restaurants' variables to single DataFrame\n",
    "df = orders.merge(restaurants,on='restaurant_id') # merging by 'restaurant_id' column"
   ]
  },
  {
   "cell_type": "code",
   "execution_count": 20,
   "id": "b83815ba",
   "metadata": {},
   "outputs": [
    {
     "data": {
      "text/html": [
       "<div>\n",
       "<style scoped>\n",
       "    .dataframe tbody tr th:only-of-type {\n",
       "        vertical-align: middle;\n",
       "    }\n",
       "\n",
       "    .dataframe tbody tr th {\n",
       "        vertical-align: top;\n",
       "    }\n",
       "\n",
       "    .dataframe thead th {\n",
       "        text-align: right;\n",
       "    }\n",
       "</style>\n",
       "<table border=\"1\" class=\"dataframe\">\n",
       "  <thead>\n",
       "    <tr style=\"text-align: right;\">\n",
       "      <th></th>\n",
       "      <th>country</th>\n",
       "      <th>median_prep_s</th>\n",
       "    </tr>\n",
       "  </thead>\n",
       "  <tbody>\n",
       "    <tr>\n",
       "      <th>0</th>\n",
       "      <td>France</td>\n",
       "      <td>259.5</td>\n",
       "    </tr>\n",
       "    <tr>\n",
       "      <th>1</th>\n",
       "      <td>Germany</td>\n",
       "      <td>800.5</td>\n",
       "    </tr>\n",
       "    <tr>\n",
       "      <th>2</th>\n",
       "      <td>UK</td>\n",
       "      <td>845.0</td>\n",
       "    </tr>\n",
       "    <tr>\n",
       "      <th>3</th>\n",
       "      <td>Ireland</td>\n",
       "      <td>888.0</td>\n",
       "    </tr>\n",
       "  </tbody>\n",
       "</table>\n",
       "</div>"
      ],
      "text/plain": [
       "   country  median_prep_s\n",
       "0   France          259.5\n",
       "1  Germany          800.5\n",
       "2       UK          845.0\n",
       "3  Ireland          888.0"
      ]
     },
     "execution_count": 20,
     "metadata": {},
     "output_type": "execute_result"
    }
   ],
   "source": [
    "# let's calculate the median order time for each country\n",
    "\n",
    "countries = ['UK','France','Ireland','Germany']\n",
    "countryDf = pd.DataFrame(columns=['country','median_prep_s'])\n",
    "\n",
    "for country in countries:\n",
    "    tempDf = df[df['country'] == country]\n",
    "    countryDf = countryDf.append({'country':country,'median_prep_s':np.median(tempDf['prep_time_seconds'])},ignore_index=True)\n",
    "    \n",
    "countryDf.sort_values(by='median_prep_s').reset_index(drop=True)"
   ]
  },
  {
   "cell_type": "code",
   "execution_count": 21,
   "id": "1738d808",
   "metadata": {},
   "outputs": [],
   "source": [
    "# interestingly, the median preparation time is significantly lower for France than for all other countries."
   ]
  },
  {
   "cell_type": "code",
   "execution_count": 22,
   "id": "f7cca150",
   "metadata": {
    "scrolled": true
   },
   "outputs": [
    {
     "data": {
      "text/html": [
       "<div>\n",
       "<style scoped>\n",
       "    .dataframe tbody tr th:only-of-type {\n",
       "        vertical-align: middle;\n",
       "    }\n",
       "\n",
       "    .dataframe tbody tr th {\n",
       "        vertical-align: top;\n",
       "    }\n",
       "\n",
       "    .dataframe thead th {\n",
       "        text-align: right;\n",
       "    }\n",
       "</style>\n",
       "<table border=\"1\" class=\"dataframe\">\n",
       "  <thead>\n",
       "    <tr style=\"text-align: right;\">\n",
       "      <th></th>\n",
       "      <th>restaurant_id</th>\n",
       "      <th>count</th>\n",
       "    </tr>\n",
       "  </thead>\n",
       "  <tbody>\n",
       "    <tr>\n",
       "      <th>0</th>\n",
       "      <td>408</td>\n",
       "      <td>679</td>\n",
       "    </tr>\n",
       "    <tr>\n",
       "      <th>1</th>\n",
       "      <td>365</td>\n",
       "      <td>339</td>\n",
       "    </tr>\n",
       "    <tr>\n",
       "      <th>2</th>\n",
       "      <td>1939</td>\n",
       "      <td>312</td>\n",
       "    </tr>\n",
       "    <tr>\n",
       "      <th>3</th>\n",
       "      <td>20</td>\n",
       "      <td>281</td>\n",
       "    </tr>\n",
       "    <tr>\n",
       "      <th>4</th>\n",
       "      <td>1390</td>\n",
       "      <td>250</td>\n",
       "    </tr>\n",
       "  </tbody>\n",
       "</table>\n",
       "</div>"
      ],
      "text/plain": [
       "   restaurant_id  count\n",
       "0            408    679\n",
       "1            365    339\n",
       "2           1939    312\n",
       "3             20    281\n",
       "4           1390    250"
      ]
     },
     "execution_count": 22,
     "metadata": {},
     "output_type": "execute_result"
    }
   ],
   "source": [
    "# let's take a look at the top 5 restaurants by number of orders\n",
    "\n",
    "mostOrders = pd.DataFrame(df['restaurant_id'].value_counts().reset_index()).rename(columns={'index':'restaurant_id','restaurant_id':'count'}).head()\n",
    "mostOrders # the top 5 restaurants have between 250 and 679 orders in total"
   ]
  },
  {
   "cell_type": "code",
   "execution_count": 23,
   "id": "dda53a53",
   "metadata": {},
   "outputs": [
    {
     "data": {
      "text/html": [
       "<div>\n",
       "<style scoped>\n",
       "    .dataframe tbody tr th:only-of-type {\n",
       "        vertical-align: middle;\n",
       "    }\n",
       "\n",
       "    .dataframe tbody tr th {\n",
       "        vertical-align: top;\n",
       "    }\n",
       "\n",
       "    .dataframe thead th {\n",
       "        text-align: right;\n",
       "    }\n",
       "</style>\n",
       "<table border=\"1\" class=\"dataframe\">\n",
       "  <thead>\n",
       "    <tr style=\"text-align: right;\">\n",
       "      <th></th>\n",
       "      <th>restaurant_id</th>\n",
       "      <th>median_prep_s</th>\n",
       "      <th>stdev_prep_s</th>\n",
       "      <th>median_prep_m</th>\n",
       "      <th>stdev_prep_m</th>\n",
       "    </tr>\n",
       "  </thead>\n",
       "  <tbody>\n",
       "    <tr>\n",
       "      <th>0</th>\n",
       "      <td>408</td>\n",
       "      <td>945</td>\n",
       "      <td>1358</td>\n",
       "      <td>15.8</td>\n",
       "      <td>22.6</td>\n",
       "    </tr>\n",
       "    <tr>\n",
       "      <th>1</th>\n",
       "      <td>365</td>\n",
       "      <td>594</td>\n",
       "      <td>605</td>\n",
       "      <td>9.9</td>\n",
       "      <td>10.1</td>\n",
       "    </tr>\n",
       "    <tr>\n",
       "      <th>2</th>\n",
       "      <td>1939</td>\n",
       "      <td>835</td>\n",
       "      <td>1568</td>\n",
       "      <td>13.9</td>\n",
       "      <td>26.1</td>\n",
       "    </tr>\n",
       "    <tr>\n",
       "      <th>3</th>\n",
       "      <td>20</td>\n",
       "      <td>1067</td>\n",
       "      <td>1857</td>\n",
       "      <td>17.8</td>\n",
       "      <td>31.0</td>\n",
       "    </tr>\n",
       "    <tr>\n",
       "      <th>4</th>\n",
       "      <td>1390</td>\n",
       "      <td>513</td>\n",
       "      <td>1082</td>\n",
       "      <td>8.6</td>\n",
       "      <td>18.0</td>\n",
       "    </tr>\n",
       "  </tbody>\n",
       "</table>\n",
       "</div>"
      ],
      "text/plain": [
       "  restaurant_id median_prep_s stdev_prep_s  median_prep_m  stdev_prep_m\n",
       "0           408           945         1358           15.8          22.6\n",
       "1           365           594          605            9.9          10.1\n",
       "2          1939           835         1568           13.9          26.1\n",
       "3            20          1067         1857           17.8          31.0\n",
       "4          1390           513         1082            8.6          18.0"
      ]
     },
     "execution_count": 23,
     "metadata": {},
     "output_type": "execute_result"
    }
   ],
   "source": [
    "# let's calculate the standard deviation of preparation time for the top 5 restaurants by number of orders\n",
    "\n",
    "mostOrders = list(mostOrders['restaurant_id'])\n",
    "mostOrdersDf = pd.DataFrame(columns=['restaurant_id','median_prep_s','stdev_prep_s'])\n",
    "\n",
    "for restaurant in mostOrders:\n",
    "    tempDf = df[df['restaurant_id'] == restaurant]\n",
    "    mostOrdersDf = mostOrdersDf.append({'restaurant_id':int(restaurant),'median_prep_s':int(np.median(tempDf['prep_time_seconds'])),'stdev_prep_s':int(np.std(tempDf['prep_time_seconds']))},ignore_index=True)\n",
    "    \n",
    "mostOrdersDf['median_prep_m'] = mostOrdersDf['median_prep_s'].apply(lambda x: np.round(x/60,1))\n",
    "mostOrdersDf['stdev_prep_m'] = mostOrdersDf['stdev_prep_s'].apply(lambda x: np.round(x/60,1))\n",
    "mostOrdersDf # visualizing the median and standard deviation of the top 5 restaurants in seconds (and minutes)"
   ]
  },
  {
   "cell_type": "code",
   "execution_count": 24,
   "id": "321d7cbd",
   "metadata": {},
   "outputs": [],
   "source": [
    "# it seems that the standard deviation of the preparation time can vary significantly on the restaurant level,\n",
    "# with the top 5 restaurants by order numbers showing prep time deviations anywhere between 10.1 minutes and \n",
    "# 31 minutes. This suggests features beyond restaurant characteristics can impact order preparation time."
   ]
  },
  {
   "cell_type": "code",
   "execution_count": 25,
   "id": "e06431b1",
   "metadata": {},
   "outputs": [],
   "source": [
    "# extracting the hour and minute the order was acknowledged\n",
    "df['hour_acknowledged'] = df['order_acknowledged_at'].apply(lambda x: x.hour) # hour acknowledged\n",
    "df['minute_acknowledged'] = df['order_acknowledged_at'].apply(lambda x: x.hour*60 + x.minute) # minute acknowledged"
   ]
  },
  {
   "cell_type": "code",
   "execution_count": 26,
   "id": "1ccefcea",
   "metadata": {},
   "outputs": [],
   "source": [
    "# let's visualize median prep times for all restaurants based on the hour of day that the order was acknowledged\n",
    "hourVis = pd.DataFrame(columns=['hour_acknowledged','med_prep_time'])\n",
    "\n",
    "for i in range(0,24):\n",
    "    hDf = df[df['hour_acknowledged'] == i]\n",
    "    mpt = np.median(hDf['prep_time_seconds'])\n",
    "    \n",
    "    if len(hDf) >= 10: # using minimum of 10 samples per hour to calculate median\n",
    "        hourVis = hourVis.append({'hour_acknowledged':i,'med_prep_time':mpt},ignore_index=True)"
   ]
  },
  {
   "cell_type": "code",
   "execution_count": 27,
   "id": "ca6b442a",
   "metadata": {},
   "outputs": [
    {
     "data": {
      "text/plain": [
       "Text(0, 0.5, 'median prep time (s)')"
      ]
     },
     "execution_count": 27,
     "metadata": {},
     "output_type": "execute_result"
    },
    {
     "data": {
      "image/png": "[encoded data removed]",
      "text/plain": [
       "<Figure size 640x480 with 1 Axes>"
      ]
     },
     "metadata": {},
     "output_type": "display_data"
    }
   ],
   "source": [
    "plt.plot(hourVis['hour_acknowledged'][1:],hourVis['med_prep_time'][1:]) # hourly visualization from 10AM onwards\n",
    "plt.xlabel('hour of day (24h)')\n",
    "plt.ylabel('median prep time (s)')"
   ]
  },
  {
   "cell_type": "code",
   "execution_count": 28,
   "id": "1e4e0589",
   "metadata": {},
   "outputs": [],
   "source": [
    "# it appears that in general, the median preparation time for restaurants is significantly \n",
    "# higher before noon after which a sharp decline is experienced in the following hours.\n",
    "#\n",
    "# this indicates that the time of day that the order was acknowledged can potentially\n",
    "# impact food preparation time. We can use the hour or minute acknowledged as a model input."
   ]
  },
  {
   "cell_type": "code",
   "execution_count": 29,
   "id": "8dd6ac08",
   "metadata": {},
   "outputs": [],
   "source": [
    "del df['order_ready_at'], df['order_acknowledged_at'], df['hour_acknowledged'] # minute_acknowledged used"
   ]
  },
  {
   "cell_type": "code",
   "execution_count": 30,
   "id": "23587a21",
   "metadata": {},
   "outputs": [
    {
     "data": {
      "text/plain": [
       "Text(0, 0.5, 'frequency')"
      ]
     },
     "execution_count": 30,
     "metadata": {},
     "output_type": "execute_result"
    },
    {
     "data": {
      "image/png": "[encoded data removed]",
      "text/plain": [
       "<Figure size 640x480 with 1 Axes>"
      ]
     },
     "metadata": {},
     "output_type": "display_data"
    }
   ],
   "source": [
    "# visualization of 'prep_time_seconds' column\n",
    "plt.hist(df['prep_time_seconds'], bins=50)\n",
    "plt.xlabel('prep time (s)') \n",
    "plt.ylabel('frequency')"
   ]
  },
  {
   "cell_type": "code",
   "execution_count": 31,
   "id": "6b3b6e06",
   "metadata": {},
   "outputs": [],
   "source": [
    "# there appear to be significant outliers in the prep time data - let's remove these.\n",
    "q_upper = df['prep_time_seconds'].quantile(0.99) # upper outlier bound = 7634.2s\n",
    "df = df[(df['prep_time_seconds'] < q_upper)]"
   ]
  },
  {
   "cell_type": "code",
   "execution_count": 32,
   "id": "b3ae0a44",
   "metadata": {},
   "outputs": [
    {
     "data": {
      "text/plain": [
       "Text(0, 0.5, 'frequency')"
      ]
     },
     "execution_count": 32,
     "metadata": {},
     "output_type": "execute_result"
    },
    {
     "data": {
      "image/png": "[encoded data removed]",
      "text/plain": [
       "<Figure size 640x480 with 1 Axes>"
      ]
     },
     "metadata": {},
     "output_type": "display_data"
    }
   ],
   "source": [
    "# re-plotting\n",
    "plt.hist(df['prep_time_seconds'], bins=200)\n",
    "plt.xlabel('prep time (s)')\n",
    "plt.ylabel('frequency')"
   ]
  },
  {
   "cell_type": "code",
   "execution_count": 33,
   "id": "dd4b50ea",
   "metadata": {},
   "outputs": [],
   "source": [
    "# encoding of 'country', 'city', and 'type_of_food' columns as integers\n",
    "encode = LabelEncoder()\n",
    "variables = ['country', 'city', 'type_of_food']\n",
    "\n",
    "for var in variables:\n",
    "    df[var] = encode.fit_transform(df[var]) "
   ]
  },
  {
   "cell_type": "code",
   "execution_count": 34,
   "id": "d88f4046",
   "metadata": {},
   "outputs": [],
   "source": [
    "# assigning labels variable \n",
    "labels = df['prep_time_seconds'] # label = 'prep_time_seconds'\n",
    "del df['prep_time_seconds'], df['restaurant_id'] # removing 'prep_time_seconds', 'restaurant_id' from features\n",
    "\n",
    "# assigning features variable\n",
    "features = df"
   ]
  },
  {
   "cell_type": "code",
   "execution_count": 35,
   "id": "1c916edc",
   "metadata": {},
   "outputs": [
    {
     "data": {
      "text/html": [
       "<div>\n",
       "<style scoped>\n",
       "    .dataframe tbody tr th:only-of-type {\n",
       "        vertical-align: middle;\n",
       "    }\n",
       "\n",
       "    .dataframe tbody tr th {\n",
       "        vertical-align: top;\n",
       "    }\n",
       "\n",
       "    .dataframe thead th {\n",
       "        text-align: right;\n",
       "    }\n",
       "</style>\n",
       "<table border=\"1\" class=\"dataframe\">\n",
       "  <thead>\n",
       "    <tr style=\"text-align: right;\">\n",
       "      <th></th>\n",
       "      <th>order_value_gbp</th>\n",
       "      <th>number_of_items</th>\n",
       "      <th>country</th>\n",
       "      <th>city</th>\n",
       "      <th>type_of_food</th>\n",
       "      <th>minute_acknowledged</th>\n",
       "    </tr>\n",
       "  </thead>\n",
       "  <tbody>\n",
       "    <tr>\n",
       "      <th>0</th>\n",
       "      <td>59.90</td>\n",
       "      <td>2</td>\n",
       "      <td>3</td>\n",
       "      <td>14</td>\n",
       "      <td>13</td>\n",
       "      <td>748</td>\n",
       "    </tr>\n",
       "    <tr>\n",
       "      <th>1</th>\n",
       "      <td>24.00</td>\n",
       "      <td>8</td>\n",
       "      <td>3</td>\n",
       "      <td>14</td>\n",
       "      <td>13</td>\n",
       "      <td>1026</td>\n",
       "    </tr>\n",
       "    <tr>\n",
       "      <th>2</th>\n",
       "      <td>15.25</td>\n",
       "      <td>3</td>\n",
       "      <td>3</td>\n",
       "      <td>14</td>\n",
       "      <td>13</td>\n",
       "      <td>896</td>\n",
       "    </tr>\n",
       "    <tr>\n",
       "      <th>3</th>\n",
       "      <td>28.05</td>\n",
       "      <td>8</td>\n",
       "      <td>3</td>\n",
       "      <td>14</td>\n",
       "      <td>13</td>\n",
       "      <td>912</td>\n",
       "    </tr>\n",
       "    <tr>\n",
       "      <th>4</th>\n",
       "      <td>56.30</td>\n",
       "      <td>7</td>\n",
       "      <td>3</td>\n",
       "      <td>14</td>\n",
       "      <td>16</td>\n",
       "      <td>787</td>\n",
       "    </tr>\n",
       "  </tbody>\n",
       "</table>\n",
       "</div>"
      ],
      "text/plain": [
       "   order_value_gbp  number_of_items  country  city  type_of_food  \\\n",
       "0            59.90                2        3    14            13   \n",
       "1            24.00                8        3    14            13   \n",
       "2            15.25                3        3    14            13   \n",
       "3            28.05                8        3    14            13   \n",
       "4            56.30                7        3    14            16   \n",
       "\n",
       "   minute_acknowledged  \n",
       "0                  748  \n",
       "1                 1026  \n",
       "2                  896  \n",
       "3                  912  \n",
       "4                  787  "
      ]
     },
     "execution_count": 35,
     "metadata": {},
     "output_type": "execute_result"
    }
   ],
   "source": [
    "features.head() # input features used for model"
   ]
  },
  {
   "cell_type": "code",
   "execution_count": 36,
   "id": "55ea9237",
   "metadata": {},
   "outputs": [
    {
     "data": {
      "text/html": [
       "<style>#sk-container-id-1 {color: black;background-color: white;}#sk-container-id-1 pre{padding: 0;}#sk-container-id-1 div.sk-toggleable {background-color: white;}#sk-container-id-1 label.sk-toggleable__label {cursor: pointer;display: block;width: 100%;margin-bottom: 0;padding: 0.3em;box-sizing: border-box;text-align: center;}#sk-container-id-1 label.sk-toggleable__label-arrow:before {content: \"▸\";float: left;margin-right: 0.25em;color: #696969;}#sk-container-id-1 label.sk-toggleable__label-arrow:hover:before {color: black;}#sk-container-id-1 div.sk-estimator:hover label.sk-toggleable__label-arrow:before {color: black;}#sk-container-id-1 div.sk-toggleable__content {max-height: 0;max-width: 0;overflow: hidden;text-align: left;background-color: #f0f8ff;}#sk-container-id-1 div.sk-toggleable__content pre {margin: 0.2em;color: black;border-radius: 0.25em;background-color: #f0f8ff;}#sk-container-id-1 input.sk-toggleable__control:checked~div.sk-toggleable__content {max-height: 200px;max-width: 100%;overflow: auto;}#sk-container-id-1 input.sk-toggleable__control:checked~label.sk-toggleable__label-arrow:before {content: \"▾\";}#sk-container-id-1 div.sk-estimator input.sk-toggleable__control:checked~label.sk-toggleable__label {background-color: #d4ebff;}#sk-container-id-1 div.sk-label input.sk-toggleable__control:checked~label.sk-toggleable__label {background-color: #d4ebff;}#sk-container-id-1 input.sk-hidden--visually {border: 0;clip: rect(1px 1px 1px 1px);clip: rect(1px, 1px, 1px, 1px);height: 1px;margin: -1px;overflow: hidden;padding: 0;position: absolute;width: 1px;}#sk-container-id-1 div.sk-estimator {font-family: monospace;background-color: #f0f8ff;border: 1px dotted black;border-radius: 0.25em;box-sizing: border-box;margin-bottom: 0.5em;}#sk-container-id-1 div.sk-estimator:hover {background-color: #d4ebff;}#sk-container-id-1 div.sk-parallel-item::after {content: \"\";width: 100%;border-bottom: 1px solid gray;flex-grow: 1;}#sk-container-id-1 div.sk-label:hover label.sk-toggleable__label {background-color: #d4ebff;}#sk-container-id-1 div.sk-serial::before {content: \"\";position: absolute;border-left: 1px solid gray;box-sizing: border-box;top: 0;bottom: 0;left: 50%;z-index: 0;}#sk-container-id-1 div.sk-serial {display: flex;flex-direction: column;align-items: center;background-color: white;padding-right: 0.2em;padding-left: 0.2em;position: relative;}#sk-container-id-1 div.sk-item {position: relative;z-index: 1;}#sk-container-id-1 div.sk-parallel {display: flex;align-items: stretch;justify-content: center;background-color: white;position: relative;}#sk-container-id-1 div.sk-item::before, #sk-container-id-1 div.sk-parallel-item::before {content: \"\";position: absolute;border-left: 1px solid gray;box-sizing: border-box;top: 0;bottom: 0;left: 50%;z-index: -1;}#sk-container-id-1 div.sk-parallel-item {display: flex;flex-direction: column;z-index: 1;position: relative;background-color: white;}#sk-container-id-1 div.sk-parallel-item:first-child::after {align-self: flex-end;width: 50%;}#sk-container-id-1 div.sk-parallel-item:last-child::after {align-self: flex-start;width: 50%;}#sk-container-id-1 div.sk-parallel-item:only-child::after {width: 0;}#sk-container-id-1 div.sk-dashed-wrapped {border: 1px dashed gray;margin: 0 0.4em 0.5em 0.4em;box-sizing: border-box;padding-bottom: 0.4em;background-color: white;}#sk-container-id-1 div.sk-label label {font-family: monospace;font-weight: bold;display: inline-block;line-height: 1.2em;}#sk-container-id-1 div.sk-label-container {text-align: center;}#sk-container-id-1 div.sk-container {/* jupyter's `normalize.less` sets `[hidden] { display: none; }` but bootstrap.min.css set `[hidden] { display: none !important; }` so we also need the `!important` here to be able to override the default hidden behavior on the sphinx rendered scikit-learn.org. See: https://github.com/scikit-learn/scikit-learn/issues/21755 */display: inline-block !important;position: relative;}#sk-container-id-1 div.sk-text-repr-fallback {display: none;}</style><div id=\"sk-container-id-1\" class=\"sk-top-container\"><div class=\"sk-text-repr-fallback\"><pre>XGBRegressor(base_score=0.5, booster=&#x27;gbtree&#x27;, callbacks=None,\n",
       "             colsample_bylevel=1, colsample_bynode=1, colsample_bytree=1,\n",
       "             early_stopping_rounds=None, enable_categorical=False,\n",
       "             eval_metric=None, feature_types=None, gamma=0, gpu_id=-1,\n",
       "             grow_policy=&#x27;depthwise&#x27;, importance_type=None,\n",
       "             interaction_constraints=&#x27;&#x27;, learning_rate=0.300000012, max_bin=256,\n",
       "             max_cat_threshold=64, max_cat_to_onehot=4, max_delta_step=0,\n",
       "             max_depth=6, max_leaves=0, min_child_weight=1, missing=nan,\n",
       "             monotone_constraints=&#x27;()&#x27;, n_estimators=100, n_jobs=0,\n",
       "             num_parallel_tree=1, predictor=&#x27;auto&#x27;, random_state=0, ...)</pre><b>In a Jupyter environment, please rerun this cell to show the HTML representation or trust the notebook. <br />On GitHub, the HTML representation is unable to render, please try loading this page with nbviewer.org.</b></div><div class=\"sk-container\" hidden><div class=\"sk-item\"><div class=\"sk-estimator sk-toggleable\"><input class=\"sk-toggleable__control sk-hidden--visually\" id=\"sk-estimator-id-1\" type=\"checkbox\" checked><label for=\"sk-estimator-id-1\" class=\"sk-toggleable__label sk-toggleable__label-arrow\">XGBRegressor</label><div class=\"sk-toggleable__content\"><pre>XGBRegressor(base_score=0.5, booster=&#x27;gbtree&#x27;, callbacks=None,\n",
       "             colsample_bylevel=1, colsample_bynode=1, colsample_bytree=1,\n",
       "             early_stopping_rounds=None, enable_categorical=False,\n",
       "             eval_metric=None, feature_types=None, gamma=0, gpu_id=-1,\n",
       "             grow_policy=&#x27;depthwise&#x27;, importance_type=None,\n",
       "             interaction_constraints=&#x27;&#x27;, learning_rate=0.300000012, max_bin=256,\n",
       "             max_cat_threshold=64, max_cat_to_onehot=4, max_delta_step=0,\n",
       "             max_depth=6, max_leaves=0, min_child_weight=1, missing=nan,\n",
       "             monotone_constraints=&#x27;()&#x27;, n_estimators=100, n_jobs=0,\n",
       "             num_parallel_tree=1, predictor=&#x27;auto&#x27;, random_state=0, ...)</pre></div></div></div></div></div>"
      ],
      "text/plain": [
       "XGBRegressor(base_score=0.5, booster='gbtree', callbacks=None,\n",
       "             colsample_bylevel=1, colsample_bynode=1, colsample_bytree=1,\n",
       "             early_stopping_rounds=None, enable_categorical=False,\n",
       "             eval_metric=None, feature_types=None, gamma=0, gpu_id=-1,\n",
       "             grow_policy='depthwise', importance_type=None,\n",
       "             interaction_constraints='', learning_rate=0.300000012, max_bin=256,\n",
       "             max_cat_threshold=64, max_cat_to_onehot=4, max_delta_step=0,\n",
       "             max_depth=6, max_leaves=0, min_child_weight=1, missing=nan,\n",
       "             monotone_constraints='()', n_estimators=100, n_jobs=0,\n",
       "             num_parallel_tree=1, predictor='auto', random_state=0, ...)"
      ]
     },
     "execution_count": 36,
     "metadata": {},
     "output_type": "execute_result"
    }
   ],
   "source": [
    "# Assigning training, testing splits and fitting model to XGBRegressor\n",
    "X_train, X_test, y_train, y_test = train_test_split(features,labels,test_size=0.3,random_state=0) # 70%/30% split\n",
    "\n",
    "reg = XGBRegressor()\n",
    "reg.fit(X_train,y_train)"
   ]
  },
  {
   "cell_type": "code",
   "execution_count": 37,
   "id": "0a79b117",
   "metadata": {},
   "outputs": [
    {
     "data": {
      "text/plain": [
       "Text(0, 0.5, 'predicted preparation time (s)')"
      ]
     },
     "execution_count": 37,
     "metadata": {},
     "output_type": "execute_result"
    },
    {
     "data": {
      "image/png": "[encoded data removed]",
      "text/plain": [
       "<Figure size 640x480 with 1 Axes>"
      ]
     },
     "metadata": {},
     "output_type": "display_data"
    }
   ],
   "source": [
    "# evaluating predictive performance with test data\n",
    "prediction = reg.predict(X_test)\n",
    "\n",
    "plt.scatter(y_test,prediction)\n",
    "plt.xlabel('actual preparation time (s)')\n",
    "plt.ylabel('predicted preparation time (s)')"
   ]
  },
  {
   "cell_type": "code",
   "execution_count": 38,
   "id": "e13c33de",
   "metadata": {},
   "outputs": [
    {
     "name": "stdout",
     "output_type": "stream",
     "text": [
      "R2 score: 0.31\n"
     ]
    }
   ],
   "source": [
    "print('R2 score:',np.round(r2_score(y_test,prediction),2))"
   ]
  },
  {
   "cell_type": "code",
   "execution_count": 39,
   "id": "2fd43a37",
   "metadata": {},
   "outputs": [
    {
     "name": "stdout",
     "output_type": "stream",
     "text": [
      "Mean Absolute Error: 480.1 seconds\n"
     ]
    }
   ],
   "source": [
    "print('Mean Absolute Error:',np.round(mean_absolute_error(y_test, prediction),1),'seconds')"
   ]
  },
  {
   "cell_type": "code",
   "execution_count": 40,
   "id": "a0dd1325",
   "metadata": {},
   "outputs": [],
   "source": [
    "# Let's calculate the feature importances as determined by XGBRegressor\n",
    "importances = pd.DataFrame(reg.feature_importances_,index=features.columns).sort_values(by=0, ascending=False)\n",
    "importances = importances.rename(columns={0:'importance'})"
   ]
  },
  {
   "cell_type": "code",
   "execution_count": 41,
   "id": "301ec0e6",
   "metadata": {
    "scrolled": true
   },
   "outputs": [
    {
     "data": {
      "text/html": [
       "<div>\n",
       "<style scoped>\n",
       "    .dataframe tbody tr th:only-of-type {\n",
       "        vertical-align: middle;\n",
       "    }\n",
       "\n",
       "    .dataframe tbody tr th {\n",
       "        vertical-align: top;\n",
       "    }\n",
       "\n",
       "    .dataframe thead th {\n",
       "        text-align: right;\n",
       "    }\n",
       "</style>\n",
       "<table border=\"1\" class=\"dataframe\">\n",
       "  <thead>\n",
       "    <tr style=\"text-align: right;\">\n",
       "      <th></th>\n",
       "      <th>importance</th>\n",
       "    </tr>\n",
       "  </thead>\n",
       "  <tbody>\n",
       "    <tr>\n",
       "      <th>minute_acknowledged</th>\n",
       "      <td>0.376094</td>\n",
       "    </tr>\n",
       "    <tr>\n",
       "      <th>country</th>\n",
       "      <td>0.294947</td>\n",
       "    </tr>\n",
       "    <tr>\n",
       "      <th>city</th>\n",
       "      <td>0.091126</td>\n",
       "    </tr>\n",
       "    <tr>\n",
       "      <th>order_value_gbp</th>\n",
       "      <td>0.090822</td>\n",
       "    </tr>\n",
       "    <tr>\n",
       "      <th>type_of_food</th>\n",
       "      <td>0.081299</td>\n",
       "    </tr>\n",
       "    <tr>\n",
       "      <th>number_of_items</th>\n",
       "      <td>0.065712</td>\n",
       "    </tr>\n",
       "  </tbody>\n",
       "</table>\n",
       "</div>"
      ],
      "text/plain": [
       "                     importance\n",
       "minute_acknowledged    0.376094\n",
       "country                0.294947\n",
       "city                   0.091126\n",
       "order_value_gbp        0.090822\n",
       "type_of_food           0.081299\n",
       "number_of_items        0.065712"
      ]
     },
     "execution_count": 41,
     "metadata": {},
     "output_type": "execute_result"
    }
   ],
   "source": [
    "importances"
   ]
  },
  {
   "cell_type": "code",
   "execution_count": 42,
   "id": "43730a88",
   "metadata": {},
   "outputs": [],
   "source": [
    "# from the provided XGBRegressor importances, we can see that 'minute_acknowledged' and 'country'\n",
    "# are attributed the highest importancs followed by 'city', 'order_value_gbp', 'type_of_food', \n",
    "# and 'number_of_items'."
   ]
  },
  {
   "cell_type": "code",
   "execution_count": 43,
   "id": "1d71baf4",
   "metadata": {},
   "outputs": [],
   "source": [
    "# Some notes: 'minute_acknowledged' is attributed a relatively high feature importance in this run of the model.\n",
    "# It was previously illustrated that median preparation time is significantly higher early in the day compared\n",
    "# to afternoon hours, therefore time of day acknowledged is likely a significant factor in preparation time.\n",
    "\n",
    "# We also saw that significant deviations exist in prep time on an individual restaurant level. This indicates\n",
    "# that factors beyond country, city, and type_of_food classification can influence the order preparation time\n",
    "# since these remain constant per restaurant.\n",
    "\n",
    "# Since 'city', 'order_value_gbp', 'type_of_food' and 'number_of_items' are determined to be of relatively low\n",
    "# importance by the model, there are likely other variables not included that can significantly impact food\n",
    "# preparation time.\n",
    "\n",
    "# Examples of such variables could be the specific food items ordered or the number of staff available when\n",
    "# the order is placed.\n",
    "\n",
    "# For example, a customer may order 20 cans of a soft drink - even though the order consists of 20 items, the\n",
    "# order preparation time is likely less than that of a dish that requires cooking. Therefore, the number of\n",
    "# items in the order can only tell so much about the preparation time required for an order. Similarly, if\n",
    "# a restaurant receives 50 orders of several items in an hour and there is only one staff member available\n",
    "# to prepare orders, the restaurant may not have the bandwidth to prepare these items as quickly as usual."
   ]
  }
 ],
 "metadata": {
  "kernelspec": {
   "display_name": "Python 3 (ipykernel)",
   "language": "python",
   "name": "python3"
  },
  "language_info": {
   "codemirror_mode": {
    "name": "ipython",
    "version": 3
   },
   "file_extension": ".py",
   "mimetype": "text/x-python",
   "name": "python",
   "nbconvert_exporter": "python",
   "pygments_lexer": "ipython3",
   "version": "3.11.0"
  }
 },
 "nbformat": 4,
 "nbformat_minor": 5
}
